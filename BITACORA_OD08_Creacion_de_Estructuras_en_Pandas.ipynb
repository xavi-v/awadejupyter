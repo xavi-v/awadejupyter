{
  "nbformat": 4,
  "nbformat_minor": 0,
  "metadata": {
    "kernelspec": {
      "display_name": "Python 3",
      "language": "python",
      "name": "python3"
    },
    "language_info": {
      "codemirror_mode": {
        "name": "ipython",
        "version": 3
      },
      "file_extension": ".py",
      "mimetype": "text/x-python",
      "name": "python",
      "nbconvert_exporter": "python",
      "pygments_lexer": "ipython3",
      "version": "3.7.6"
    },
    "colab": {
      "provenance": [],
      "collapsed_sections": [
        "PKOfofAv7UaA"
      ]
    }
  },
  "cells": [
    {
      "cell_type": "markdown",
      "metadata": {
        "id": "0xtgTktWIEA8"
      },
      "source": [
        "# **BITACORA: Obtención y preparación de datos**\n",
        "\n",
        "# OD08. Creación de Estructuras en Pandas\n",
        "\n",
        "### __Nota aclaratoria__: el presente notebook es una de los tantos que se incluyen en el material del programa. El texto que se incluye en color rojo es explicativo de cómo entregar una bitácora.\n",
        "\n",
        "## <font color='red'>Formas de realizar una buena bitácora</font>\n",
        "<font color='red'>A continuación les dejamos un ejemplo de lo que consideramos una extraordinaria bitácora.</font>\n",
        "\n",
        "<font color='red'>Recuerda que:\n",
        "* La bitácora está constituida por TODOS los notebooks del módulo vistos en clases.\n",
        "* Incluye un notebook adicional, llamado __CASOS_USO__, el cual debe contener un caso de uso por cada alumno que tenga el grupo. Dejamos un ejemplo de un notebook con casos de uso.\n",
        "* La entrega debe ser realizada en un directorio Drive de algunos de los miembros del equipo.</font>\n",
        "\n",
        "\n",
        "<font color='red'>__UNA BITÁCORA DEBE CONTENER, AL MENOS, LO SIGUIENTE__:\n",
        "* Regla 1: Todas las celdas deben estár correctamente ejecutadas.\n",
        "* Regla 2: Si se quiere mostrar un error de código que sea pertinente recordar, esto debe quedar claramente identificado (ver ejemplo)\n",
        "* Regla 3: Se deben incorporar una cantidad predeterminada de materiales adicionales: vídeos, textos, nuevas formas de resolver a las presentadas en clases, etc. (ver ejemplo)\n",
        "* Regla 4: Se deben incorporar una cantidad predeterminada de experimentos (ver ejemplo)\n",
        "* Regla 5: Al final de la bitácora, se debe incorporar una reflexión final sobre los contenidos del módulo (ver ejemplo). Para ello, los alumnos deben realizar unba análisis crítico de la herramienta desde un punto de vista de su uso profesional.\n",
        "</font>\n",
        "\n",
        "<font color='red'>En las rúbricas del programa se indican las condiciones en las que se aplican y evalúan estas reglas.</font>\n"
      ]
    },
    {
      "cell_type": "code",
      "metadata": {
        "id": "pMzn4O2j0KUF"
      },
      "source": [
        "import pandas as pd"
      ],
      "execution_count": null,
      "outputs": []
    },
    {
      "cell_type": "markdown",
      "metadata": {
        "id": "hF4u_dIEdFTk"
      },
      "source": [
        "Hay dos constructores principales para la creación de series y dataframes: `pd.Series` y `pd.DataFrames`, respectivamente. Estos constructores permiten crear estas estructuras a partir e diferentes tipos de variables: diccionarios, listas, etc. También permiten personalizar las etiquetas de los índices, y filtrar y reordenar las etiquetas de columnas."
      ]
    },
    {
      "cell_type": "markdown",
      "source": [
        "## <font color='red'>__Ejemplo de material adicional__<br>\n",
        "Se debe incorporar material adicional en cualquier formato: videos, links, imágenes, comentarios, etc. </font>\n",
        "\n",
        "<font color='red'>__IMPORTANTE__: Debemos indicar el inicio y el final del material adicional con títulos en color púrpura. A continuación un ejemplo:</font>\n",
        "\n"
      ],
      "metadata": {
        "id": "uBWUdHqFy1dn"
      }
    },
    {
      "cell_type": "markdown",
      "source": [
        "## <font color='purple'>__Material adicional__</font>\n",
        "En el siguiente video se explica la forma en que se pueden crear Dataframes en Pandas."
      ],
      "metadata": {
        "id": "0IlDZlrV1y0C"
      }
    },
    {
      "cell_type": "code",
      "source": [
        "from IPython.display import YouTubeVideo\n",
        "YouTubeVideo('https://youtu.be/GpdPvpV7MkA')"
      ],
      "metadata": {
        "colab": {
          "base_uri": "https://localhost:8080/",
          "height": 321
        },
        "id": "cSonSVXqzOTM",
        "outputId": "b1900d17-0df0-45e3-c20d-e35535bce4b9"
      },
      "execution_count": null,
      "outputs": [
        {
          "output_type": "execute_result",
          "data": {
            "text/plain": [
              "<IPython.lib.display.YouTubeVideo at 0x7f7f33670410>"
            ],
            "text/html": [
              "\n",
              "        <iframe\n",
              "            width=\"400\"\n",
              "            height=\"300\"\n",
              "            src=\"https://www.youtube.com/embed/https://youtu.be/GpdPvpV7MkA\"\n",
              "            frameborder=\"0\"\n",
              "            allowfullscreen\n",
              "        ></iframe>\n",
              "        "
            ]
          },
          "metadata": {},
          "execution_count": 3
        }
      ]
    },
    {
      "cell_type": "markdown",
      "source": [
        "<font color='purple'>Fin material adicional </font>"
      ],
      "metadata": {
        "id": "kxRG3nWF0CdN"
      }
    },
    {
      "cell_type": "markdown",
      "metadata": {
        "id": "JVUHKeZz0b-N"
      },
      "source": [
        "## <font color='blue'>**Creación de series**</font>\n",
        "\n",
        "El constructor para la creación de una serie pandas es `pandas.Series`. Este constructor acepta tres parámetros principales:\n",
        "\n",
        "* `data`: estructura de datos tipo array, iterable, diccionario o valor escalar que contendrá los valores a introducir en la serie.\n",
        "\n",
        "* `index`: estructura tipo array con la misma longitud que los datos. Si este argumento no se añade al crear la serie, se agregará un índice por defecto formado por números enteros desde 0 hasta $n-1$, siendo $n$ el número de datos.\n",
        "\n",
        "* `dtype`: tipo de datos para la serie. Si no se especifica, se inferirá a partir de los daos.\n",
        "\n",
        "Los valores del índice, no tienen que ser necesariamente distintos aunque ciertas operaciones pueden generar un error si no soportan la posibilidad de tener índices duplicados."
      ]
    },
    {
      "cell_type": "markdown",
      "metadata": {
        "id": "SI7VIgld1C6s"
      },
      "source": [
        "### Creación de una serie a partir de una lista o de un array NumPy"
      ]
    },
    {
      "cell_type": "code",
      "metadata": {
        "id": "V6F262Y21NKK",
        "colab": {
          "base_uri": "https://localhost:8080/"
        },
        "outputId": "7954a458-01e6-45aa-a490-bf98bc429736"
      },
      "source": [
        "s = pd.Series([7, 5, 3])\n",
        "s"
      ],
      "execution_count": null,
      "outputs": [
        {
          "output_type": "execute_result",
          "data": {
            "text/plain": [
              "0    7\n",
              "1    5\n",
              "2    3\n",
              "dtype: int64"
            ]
          },
          "metadata": {},
          "execution_count": 5
        }
      ]
    },
    {
      "cell_type": "markdown",
      "metadata": {
        "id": "vLo7lxf41ep8"
      },
      "source": [
        "Al no haberse especificado un índice, se asigna uno automáticamente con los valores 0, 1 y 2.\n",
        "\n",
        "<font color='red'>__ATENCIÓN__: No pueden haber celdas con errores que no sean explícitamente explicados y que intenten generar un aprendizaje concreto.</font>\n",
        "\n",
        "La siguiente celda nos entregará un error ya que `index` es un atributo y no una función; por lo tanto no podemos invocarlo poniéndole paréntesis."
      ]
    },
    {
      "cell_type": "code",
      "source": [
        "# esta celda nos arrojará un error 'RangeIndex' object is not callable\n",
        "list(s.index())"
      ],
      "metadata": {
        "colab": {
          "base_uri": "https://localhost:8080/",
          "height": 181
        },
        "id": "cgUCRD7k0OTz",
        "outputId": "0868faf3-b246-4a2d-df1b-4f967057128e"
      },
      "execution_count": null,
      "outputs": [
        {
          "output_type": "error",
          "ename": "TypeError",
          "evalue": "ignored",
          "traceback": [
            "\u001b[0;31m---------------------------------------------------------------------------\u001b[0m",
            "\u001b[0;31mTypeError\u001b[0m                                 Traceback (most recent call last)",
            "\u001b[0;32m<ipython-input-6-3a75a663d23d>\u001b[0m in \u001b[0;36m<module>\u001b[0;34m\u001b[0m\n\u001b[1;32m      1\u001b[0m \u001b[0;31m# esta celda nos arrojará un error \"object not callable\"\u001b[0m\u001b[0;34m\u001b[0m\u001b[0;34m\u001b[0m\u001b[0;34m\u001b[0m\u001b[0m\n\u001b[0;32m----> 2\u001b[0;31m \u001b[0mlist\u001b[0m\u001b[0;34m(\u001b[0m\u001b[0ms\u001b[0m\u001b[0;34m.\u001b[0m\u001b[0mindex\u001b[0m\u001b[0;34m(\u001b[0m\u001b[0;34m)\u001b[0m\u001b[0;34m)\u001b[0m\u001b[0;34m\u001b[0m\u001b[0;34m\u001b[0m\u001b[0m\n\u001b[0m",
            "\u001b[0;31mTypeError\u001b[0m: 'RangeIndex' object is not callable"
          ]
        }
      ]
    },
    {
      "cell_type": "code",
      "source": [
        "list(s.index)"
      ],
      "metadata": {
        "colab": {
          "base_uri": "https://localhost:8080/"
        },
        "id": "or4tWkwUxR8S",
        "outputId": "a5efdf42-f696-4b2d-9cb6-2ed2b01df5a9"
      },
      "execution_count": null,
      "outputs": [
        {
          "output_type": "execute_result",
          "data": {
            "text/plain": [
              "[0, 1, 2]"
            ]
          },
          "metadata": {},
          "execution_count": 7
        }
      ]
    },
    {
      "cell_type": "markdown",
      "source": [
        "Si repetimos esta instrucción especificando un índice:"
      ],
      "metadata": {
        "id": "KRTZ780LxsbN"
      }
    },
    {
      "cell_type": "code",
      "metadata": {
        "id": "6m34yifr1ih8",
        "colab": {
          "base_uri": "https://localhost:8080/"
        },
        "outputId": "b63cc6a9-9a4c-4a95-8a21-14dc161f7a7c"
      },
      "source": [
        "s = pd.Series([7, 5, 3], index = [\"Ene\", \"Feb\", \"Mar\"])\n",
        "s"
      ],
      "execution_count": null,
      "outputs": [
        {
          "output_type": "execute_result",
          "data": {
            "text/plain": [
              "Ene    7\n",
              "Feb    5\n",
              "Mar    3\n",
              "dtype: int64"
            ]
          },
          "metadata": {},
          "execution_count": 8
        }
      ]
    },
    {
      "cell_type": "markdown",
      "metadata": {
        "id": "kahDHnCy1rIq"
      },
      "source": [
        "Vemos cómo el índice por defecto ha sido sustituido por el indicado. En este caso, la longitud del índice deberá coindicir con el número de elementos de la lista.\n",
        "\n",
        "Los mismos comentarios podrían hacerse si, en lugar de una lista, hubiésemos partido de un array NumPy para crear la serie."
      ]
    },
    {
      "cell_type": "markdown",
      "source": [
        "<font color='red'>__ATENCIÓN__: se deben incorporar experimentos que profundicen los contenidos. Estos experimentos pueden desarrollarse a partir de formas alternativas de hacer una misma cosa, el uso de otras funcionalidades o librerías que generen resultados similares, mediciones de tiempos de ejecución, mediciones de uso de memoria, deconstrucciones de código para auto explicarnos el \"paso a paso\", etc.</font>\n",
        "\n",
        "<font color='red'>__IMPORTANTE__: Marcamos con el título \"EXPERIMENTO\" y \"Fin experomento\", en color púrpura el inicio y el fin de cada experimento respectivaemte. A continuación un ejemplo de Experimento. </font>"
      ],
      "metadata": {
        "id": "xD_K4gKy2tmB"
      }
    },
    {
      "cell_type": "markdown",
      "source": [
        "\n",
        "## <font color='purple'> __EXPERIMENTO__: </font>\n",
        "\n",
        "### Creación de una serie a partir de un `array` de Numpy.\n",
        "La celda anterior enuncia que podríamos haber creado una serie a partir de un array NumPy; desarrollamos ese ejemplo."
      ],
      "metadata": {
        "id": "53M07AYu23Wb"
      }
    },
    {
      "cell_type": "code",
      "source": [
        "import numpy as np\n",
        "\n",
        "a = np.array([1, 2, 3, 4])\n",
        "print(type (a))\n",
        "a"
      ],
      "metadata": {
        "colab": {
          "base_uri": "https://localhost:8080/"
        },
        "id": "HSiWw4lp4JiH",
        "outputId": "72de6f67-3faa-4f2a-9355-82c68d9eb5e3"
      },
      "execution_count": null,
      "outputs": [
        {
          "output_type": "stream",
          "name": "stdout",
          "text": [
            "<class 'numpy.ndarray'>\n"
          ]
        },
        {
          "output_type": "execute_result",
          "data": {
            "text/plain": [
              "array([1, 2, 3, 4])"
            ]
          },
          "metadata": {},
          "execution_count": 10
        }
      ]
    },
    {
      "cell_type": "code",
      "source": [
        "s2 = pd.Series(a)\n",
        "s2"
      ],
      "metadata": {
        "colab": {
          "base_uri": "https://localhost:8080/"
        },
        "id": "bFfdDgcT4cyn",
        "outputId": "4ff5c645-f674-409e-d0b5-ed1d3dd8e1b0"
      },
      "execution_count": null,
      "outputs": [
        {
          "output_type": "execute_result",
          "data": {
            "text/plain": [
              "0    1\n",
              "1    2\n",
              "2    3\n",
              "3    4\n",
              "dtype: int64"
            ]
          },
          "metadata": {},
          "execution_count": 11
        }
      ]
    },
    {
      "cell_type": "code",
      "source": [
        "#  Le creamos un índice\n",
        "s3 = pd.Series(a, index=['A', 'B', 'C', 'D'])\n",
        "s3"
      ],
      "metadata": {
        "colab": {
          "base_uri": "https://localhost:8080/"
        },
        "id": "O7JybLRU4rSx",
        "outputId": "c530295f-2d59-41f1-8dca-5a8a958f9537"
      },
      "execution_count": null,
      "outputs": [
        {
          "output_type": "execute_result",
          "data": {
            "text/plain": [
              "A    1\n",
              "B    2\n",
              "C    3\n",
              "D    4\n",
              "dtype: int64"
            ]
          },
          "metadata": {},
          "execution_count": 12
        }
      ]
    },
    {
      "cell_type": "markdown",
      "source": [
        "Veamos qué pasa si le cambiamos el tipo de datos al array"
      ],
      "metadata": {
        "id": "bEXVi1065Fao"
      }
    },
    {
      "cell_type": "code",
      "source": [
        "b = np.array([1, 2, 3, 4], dtype=np.float16)\n",
        "print(type (b))\n",
        "b"
      ],
      "metadata": {
        "colab": {
          "base_uri": "https://localhost:8080/"
        },
        "id": "9gGrPHgw5KKQ",
        "outputId": "bbdb29c8-6828-4ef2-af62-63e49b67ce42"
      },
      "execution_count": null,
      "outputs": [
        {
          "output_type": "stream",
          "name": "stdout",
          "text": [
            "<class 'numpy.ndarray'>\n"
          ]
        },
        {
          "output_type": "execute_result",
          "data": {
            "text/plain": [
              "array([1., 2., 3., 4.], dtype=float16)"
            ]
          },
          "metadata": {},
          "execution_count": 13
        }
      ]
    },
    {
      "cell_type": "code",
      "source": [
        "# y creamos una Serie\n",
        "s4 = pd.Series(b, index=['A', 'B', 'C', 'D'])\n",
        "s4"
      ],
      "metadata": {
        "colab": {
          "base_uri": "https://localhost:8080/"
        },
        "id": "8ZbNf60I5Vo1",
        "outputId": "8a310349-6899-4214-946e-c53776b88604"
      },
      "execution_count": null,
      "outputs": [
        {
          "output_type": "execute_result",
          "data": {
            "text/plain": [
              "A    1.0\n",
              "B    2.0\n",
              "C    3.0\n",
              "D    4.0\n",
              "dtype: float16"
            ]
          },
          "metadata": {},
          "execution_count": 14
        }
      ]
    },
    {
      "cell_type": "markdown",
      "source": [
        "<font color='purple'>Fin experimento </font>"
      ],
      "metadata": {
        "id": "FPDjq3Ws5kS4"
      }
    },
    {
      "cell_type": "markdown",
      "metadata": {
        "id": "TFyLedhQ11wt"
      },
      "source": [
        "### Creación de una serie a partir de un diccionario\n",
        "\n",
        "Si partimos de un diccionario para crear la serie:\n"
      ]
    },
    {
      "cell_type": "code",
      "metadata": {
        "id": "UbQsfk7r18_l",
        "colab": {
          "base_uri": "https://localhost:8080/"
        },
        "outputId": "8515d694-b5bc-451a-e38d-8d82fcf3f61c"
      },
      "source": [
        "d = {\"Ene\":7, \"Feb\":5, \"Mar\":3}\n",
        "s = pd.Series(d)\n",
        "s"
      ],
      "execution_count": null,
      "outputs": [
        {
          "output_type": "execute_result",
          "data": {
            "text/plain": [
              "Ene    7\n",
              "Feb    5\n",
              "Mar    3\n",
              "dtype: int64"
            ]
          },
          "metadata": {},
          "execution_count": 4
        }
      ]
    },
    {
      "cell_type": "markdown",
      "metadata": {
        "id": "NbXh6gHM2LrH"
      },
      "source": [
        "El constructor utiliza las claves como etiquetas del índice, y los valores del diccionario como valores de la serie.\n",
        "\n",
        "Si incluimos el índice explícitamente en el constructor, los valores en la serie se tomarán en el orden en el que estén en el índice explícito. Además, si en éste hay valores que no pertenecen al conjunto de claves del diccionario, se añaden a la serie con un valor *NaN*:"
      ]
    },
    {
      "cell_type": "code",
      "metadata": {
        "id": "CVQBwGu92Sos",
        "colab": {
          "base_uri": "https://localhost:8080/"
        },
        "outputId": "83a6e58e-56b8-4830-c0c3-1e858c1ce1e9"
      },
      "source": [
        "d = {\"Ene\":7, \"Feb\":5, \"Mar\":3}\n",
        "s = pd.Series(d, index = [\"Abr\", \"Mar\", \"Feb\", \"Ene\"])\n",
        "s"
      ],
      "execution_count": null,
      "outputs": [
        {
          "output_type": "execute_result",
          "data": {
            "text/plain": [
              "Abr    NaN\n",
              "Mar    3.0\n",
              "Feb    5.0\n",
              "Ene    7.0\n",
              "dtype: float64"
            ]
          },
          "metadata": {},
          "execution_count": 5
        }
      ]
    },
    {
      "cell_type": "markdown",
      "metadata": {
        "id": "cRoYmOAW2gJE"
      },
      "source": [
        "En este ejemplo, hemos creado la serie especificando el índice que hemos formado dando la vuelta a las claves del diccionario (\"Mar\", \"Feb\" y \"Ene\") y hemos añadido a la lista de etiquetas el valor \"Abr\", que no pertenece al conjunto de claves del diccionario. Se ha añadido a la serie, pero se le ha asignado el valor *NaN*. Es precisamente la presencia de este valor lo que modifica el tipo de la serie a float."
      ]
    },
    {
      "cell_type": "markdown",
      "metadata": {
        "id": "T8CzrmS82s2V"
      },
      "source": [
        "### Creación de una serie a partir de un escalar\n",
        "\n",
        "Si los datos se reducen a un escalar (no a una lista con un único elemento, sino a un sencillo escalar como 7 o 15.4) será necesario añadir el índice explícitamente. El número de elementos de la serie coincidirá con el número de elementos del índice, y el escalar será asignado como valor a todos ellos."
      ]
    },
    {
      "cell_type": "markdown",
      "metadata": {
        "id": "_gYvoSqohC7G"
      },
      "source": [
        "<font color='red'>__ATENCIÓN__: todas las actividades deben estar completas y correctas</font>\n",
        "\n",
        "## <font color='green'>Actividad 1</font>\n",
        "\n",
        "Escribir un programa que pregunte al usuario por las ventas de un rango de años y muestre por pantalla una serie con los datos de las ventas indexada por los años, antes y después de aplicarles un descuento del 10%."
      ]
    },
    {
      "cell_type": "code",
      "metadata": {
        "id": "HCPP0h1bpqby",
        "colab": {
          "base_uri": "https://localhost:8080/"
        },
        "outputId": "ddd778b1-31d0-4d0e-9124-c1302922b9cf"
      },
      "source": [
        "#Solución\n",
        "\n",
        "años = [2015,2016,2017,2018,2019,2020]\n",
        "sales = [10000,25000,30000,20000,35000,15000]\n",
        "sales_serie = pd.Series(sales, años)\n",
        "inicio = int(input('Ingrese año inicio: '))\n",
        "fin = int(input('Ingrese año fin: '))\n",
        "a = 0;\n",
        "for i in range(0,6):\n",
        "    if inicio == años[i]:\n",
        "       a = i\n",
        "    elif fin == años[i]:\n",
        "       b = i\n",
        "       print('Ventas antes del descuento: ')\n",
        "       for j in range(a,b+1):\n",
        "           print(sales_serie[años[j]])\n",
        "       print('Ventas con el descuento aplicado: ')\n",
        "       for k in range(a,b+1):\n",
        "          desc =(sales_serie[años[k]])*0.9\n",
        "          print(desc)\n"
      ],
      "execution_count": null,
      "outputs": [
        {
          "output_type": "stream",
          "name": "stdout",
          "text": [
            "Ingrese año inicio: 2015\n",
            "Ingrese año fin: 2020\n",
            "Ventas antes del descuento: \n",
            "10000\n",
            "25000\n",
            "30000\n",
            "20000\n",
            "35000\n",
            "15000\n",
            "Ventas con el descuento aplicado: \n",
            "9000.0\n",
            "22500.0\n",
            "27000.0\n",
            "18000.0\n",
            "31500.0\n",
            "13500.0\n"
          ]
        }
      ]
    },
    {
      "cell_type": "markdown",
      "metadata": {
        "id": "Kow9kf14pqxv"
      },
      "source": [
        "<font color='green'>Fin Actividad 1</font>"
      ]
    },
    {
      "cell_type": "markdown",
      "metadata": {
        "id": "v1J2oFb33CLf"
      },
      "source": [
        "## <font color='blue'>**Creación de dataframes**</font>\n",
        "\n",
        "El constructor de dataframes es `pandas.DataFrame`. Acepta cuatro parámetros principales:\n",
        "\n",
        "* `data`: estructura de datos ndarray (array NumPy), diccionario u otro dataframe.\n",
        "\n",
        "* `index`: índice a aplicar a las filas. Si no se especifica, se asignará uno por defecto formado por números enteros entre 0 y $n-1$, siendo $n$ el número de filas del dataframe.\n",
        "\n",
        "* `columns`: etiquetas a aplicar a las columnas. Al igual que ocurre con el índice de filas, si no se añade se asignará uno automático formado por números enteros entre 0 y $m-1$, siendo $m$ el número de columnas.\n",
        "\n",
        "* `dtype`: tipo a aplicar a los datos. Solo se permite uno. Si no se especifica, se infiere el tipo de cada columna a partir de los datos que contengan.\n",
        "\n",
        "Los valores de los índices de filas y columnas no tienen por qué ser necesariamente distintos."
      ]
    },
    {
      "cell_type": "markdown",
      "metadata": {
        "id": "xRQsQNlo3juE"
      },
      "source": [
        "### Creación de un dataframe a partir de un diccionario de listas\n",
        "\n",
        "En este escenario partimos del siguiente diccionario de listas de valores:"
      ]
    },
    {
      "cell_type": "code",
      "metadata": {
        "id": "lm2IErQK3qYR",
        "colab": {
          "base_uri": "https://localhost:8080/"
        },
        "outputId": "d1689cab-34e5-4479-cf58-dfec4459fe45"
      },
      "source": [
        "elementos = {\n",
        "    \"Número atómico\":[1, 6, 47, 88],\n",
        "    \"Masa atómica\":[1.008, 12.011, 107.87, 226],\n",
        "    \"Familia\":[\"No metal\", \"No metal\", \"Metal\", \"Metal\"]\n",
        "}\n",
        "elementos"
      ],
      "execution_count": null,
      "outputs": [
        {
          "output_type": "execute_result",
          "data": {
            "text/plain": [
              "{'Número atómico': [1, 6, 47, 88],\n",
              " 'Masa atómica': [1.008, 12.011, 107.87, 226],\n",
              " 'Familia': ['No metal', 'No metal', 'Metal', 'Metal']}"
            ]
          },
          "metadata": {},
          "execution_count": 15
        }
      ]
    },
    {
      "cell_type": "markdown",
      "metadata": {
        "id": "ZB-b4uMl4RJ9"
      },
      "source": [
        "Y creamos el dataframe con él como primer argumento:"
      ]
    },
    {
      "cell_type": "code",
      "metadata": {
        "id": "3XtaxH6E4SOS",
        "colab": {
          "base_uri": "https://localhost:8080/",
          "height": 166
        },
        "outputId": "9f99ea5f-73e9-41c2-a539-210a88eda934"
      },
      "source": [
        "tabla_periodica = pd.DataFrame(elementos)\n",
        "tabla_periodica"
      ],
      "execution_count": null,
      "outputs": [
        {
          "output_type": "execute_result",
          "data": {
            "text/html": [
              "<div>\n",
              "<style scoped>\n",
              "    .dataframe tbody tr th:only-of-type {\n",
              "        vertical-align: middle;\n",
              "    }\n",
              "\n",
              "    .dataframe tbody tr th {\n",
              "        vertical-align: top;\n",
              "    }\n",
              "\n",
              "    .dataframe thead th {\n",
              "        text-align: right;\n",
              "    }\n",
              "</style>\n",
              "<table border=\"1\" class=\"dataframe\">\n",
              "  <thead>\n",
              "    <tr style=\"text-align: right;\">\n",
              "      <th></th>\n",
              "      <th>Número atómico</th>\n",
              "      <th>Masa atómica</th>\n",
              "      <th>Familia</th>\n",
              "    </tr>\n",
              "  </thead>\n",
              "  <tbody>\n",
              "    <tr>\n",
              "      <th>0</th>\n",
              "      <td>1</td>\n",
              "      <td>1.008</td>\n",
              "      <td>No metal</td>\n",
              "    </tr>\n",
              "    <tr>\n",
              "      <th>1</th>\n",
              "      <td>6</td>\n",
              "      <td>12.011</td>\n",
              "      <td>No metal</td>\n",
              "    </tr>\n",
              "    <tr>\n",
              "      <th>2</th>\n",
              "      <td>47</td>\n",
              "      <td>107.870</td>\n",
              "      <td>Metal</td>\n",
              "    </tr>\n",
              "    <tr>\n",
              "      <th>3</th>\n",
              "      <td>88</td>\n",
              "      <td>226.000</td>\n",
              "      <td>Metal</td>\n",
              "    </tr>\n",
              "  </tbody>\n",
              "</table>\n",
              "</div>"
            ],
            "text/plain": [
              "   Número atómico  Masa atómica   Familia\n",
              "0               1         1.008  No metal\n",
              "1               6        12.011  No metal\n",
              "2              47       107.870     Metal\n",
              "3              88       226.000     Metal"
            ]
          },
          "metadata": {
            "tags": []
          },
          "execution_count": 14
        }
      ]
    },
    {
      "cell_type": "markdown",
      "metadata": {
        "id": "3JVgwbmi4eEp"
      },
      "source": [
        "El dataframe se ha creado situando las claves del diccionario como etiquetas de columnas y las listas asociadas a cada clave como columnas del dataframe. Al no haber especificado un índice de filas, éste ha tomado valores por defecto (0, 1, 2 y 3).\n",
        "\n",
        "A continuación repetimos la misma operación especificando las etiquetas tanto para filas como para columnas, utilizando los parámetros `index` y `columns`, respectivamente:"
      ]
    },
    {
      "cell_type": "code",
      "metadata": {
        "id": "hKGLEfQu4ln_",
        "colab": {
          "base_uri": "https://localhost:8080/",
          "height": 166
        },
        "outputId": "c96d5505-8bdc-4b1f-afbf-112013c201f4"
      },
      "source": [
        "tabla_periodica = pd.DataFrame(elementos,\n",
        "                               index = [\"H\", \"C\", \"Ag\", \"Ra\"],\n",
        "                               columns = [\"Familia\", \"Número atómico\", \"Masa atómica\"]\n",
        "                               )\n",
        "tabla_periodica"
      ],
      "execution_count": null,
      "outputs": [
        {
          "output_type": "execute_result",
          "data": {
            "text/html": [
              "<div>\n",
              "<style scoped>\n",
              "    .dataframe tbody tr th:only-of-type {\n",
              "        vertical-align: middle;\n",
              "    }\n",
              "\n",
              "    .dataframe tbody tr th {\n",
              "        vertical-align: top;\n",
              "    }\n",
              "\n",
              "    .dataframe thead th {\n",
              "        text-align: right;\n",
              "    }\n",
              "</style>\n",
              "<table border=\"1\" class=\"dataframe\">\n",
              "  <thead>\n",
              "    <tr style=\"text-align: right;\">\n",
              "      <th></th>\n",
              "      <th>Familia</th>\n",
              "      <th>Número atómico</th>\n",
              "      <th>Masa atómica</th>\n",
              "    </tr>\n",
              "  </thead>\n",
              "  <tbody>\n",
              "    <tr>\n",
              "      <th>H</th>\n",
              "      <td>No metal</td>\n",
              "      <td>1</td>\n",
              "      <td>1.008</td>\n",
              "    </tr>\n",
              "    <tr>\n",
              "      <th>C</th>\n",
              "      <td>No metal</td>\n",
              "      <td>6</td>\n",
              "      <td>12.011</td>\n",
              "    </tr>\n",
              "    <tr>\n",
              "      <th>Ag</th>\n",
              "      <td>Metal</td>\n",
              "      <td>47</td>\n",
              "      <td>107.870</td>\n",
              "    </tr>\n",
              "    <tr>\n",
              "      <th>Ra</th>\n",
              "      <td>Metal</td>\n",
              "      <td>88</td>\n",
              "      <td>226.000</td>\n",
              "    </tr>\n",
              "  </tbody>\n",
              "</table>\n",
              "</div>"
            ],
            "text/plain": [
              "     Familia  Número atómico  Masa atómica\n",
              "H   No metal               1         1.008\n",
              "C   No metal               6        12.011\n",
              "Ag     Metal              47       107.870\n",
              "Ra     Metal              88       226.000"
            ]
          },
          "metadata": {
            "tags": []
          },
          "execution_count": 23
        }
      ]
    },
    {
      "cell_type": "markdown",
      "metadata": {
        "id": "2X4nMxsX4-Nf"
      },
      "source": [
        "Con el parámetro `columns` podemos especificar el orden en el que se mostrarán las columnas o incluso filtrar éstas (no incluyendo todas las etiquetas presentes en el diccionario como claves), pero no cambiar sus nombres. De hecho, si alguna de las etiquetas incluidas en dicho argumento no apareciese en el conjunto de claves del diccionario, se crearía una columna con dicho nombre pero con todos sus valores fijados a *NaN*.\n",
        "\n",
        "Si, en lugar de listas de datos como valores del diccionario, hubiesen sido arrays NumPy o series, el procedimiento habría sido exactamente el mismo."
      ]
    },
    {
      "cell_type": "markdown",
      "metadata": {
        "id": "bawdsrQ65Sau"
      },
      "source": [
        "### Creación de un dataframe a partir de un array NumPy\n",
        "\n",
        "En el caso de partir de un array NumPy, si no se especifican las etiquetas de filas y columnas, se asignan las etiquetas por defecto:"
      ]
    },
    {
      "cell_type": "code",
      "metadata": {
        "id": "6H-0cGQN5ZTh",
        "colab": {
          "base_uri": "https://localhost:8080/"
        },
        "outputId": "682f874f-949c-4e8c-cc34-41a27206c051"
      },
      "source": [
        "import numpy as np\n",
        "unidades_datos = np.array([[2, 5, 3, 2],\n",
        "                           [4, 6, 7, 2],\n",
        "                           [3, 2, 4, 1]])\n",
        "unidades_datos"
      ],
      "execution_count": null,
      "outputs": [
        {
          "output_type": "execute_result",
          "data": {
            "text/plain": [
              "array([[2, 5, 3, 2],\n",
              "       [4, 6, 7, 2],\n",
              "       [3, 2, 4, 1]])"
            ]
          },
          "metadata": {
            "tags": []
          },
          "execution_count": 24
        }
      ]
    },
    {
      "cell_type": "code",
      "metadata": {
        "id": "-y_VcW265vkQ",
        "colab": {
          "base_uri": "https://localhost:8080/",
          "height": 136
        },
        "outputId": "d08d56a6-24d4-4d58-f4ff-664ac8918e3d"
      },
      "source": [
        "unidades = pd.DataFrame(unidades_datos)\n",
        "unidades"
      ],
      "execution_count": null,
      "outputs": [
        {
          "output_type": "execute_result",
          "data": {
            "text/html": [
              "<div>\n",
              "<style scoped>\n",
              "    .dataframe tbody tr th:only-of-type {\n",
              "        vertical-align: middle;\n",
              "    }\n",
              "\n",
              "    .dataframe tbody tr th {\n",
              "        vertical-align: top;\n",
              "    }\n",
              "\n",
              "    .dataframe thead th {\n",
              "        text-align: right;\n",
              "    }\n",
              "</style>\n",
              "<table border=\"1\" class=\"dataframe\">\n",
              "  <thead>\n",
              "    <tr style=\"text-align: right;\">\n",
              "      <th></th>\n",
              "      <th>0</th>\n",
              "      <th>1</th>\n",
              "      <th>2</th>\n",
              "      <th>3</th>\n",
              "    </tr>\n",
              "  </thead>\n",
              "  <tbody>\n",
              "    <tr>\n",
              "      <th>0</th>\n",
              "      <td>2</td>\n",
              "      <td>5</td>\n",
              "      <td>3</td>\n",
              "      <td>2</td>\n",
              "    </tr>\n",
              "    <tr>\n",
              "      <th>1</th>\n",
              "      <td>4</td>\n",
              "      <td>6</td>\n",
              "      <td>7</td>\n",
              "      <td>2</td>\n",
              "    </tr>\n",
              "    <tr>\n",
              "      <th>2</th>\n",
              "      <td>3</td>\n",
              "      <td>2</td>\n",
              "      <td>4</td>\n",
              "      <td>1</td>\n",
              "    </tr>\n",
              "  </tbody>\n",
              "</table>\n",
              "</div>"
            ],
            "text/plain": [
              "   0  1  2  3\n",
              "0  2  5  3  2\n",
              "1  4  6  7  2\n",
              "2  3  2  4  1"
            ]
          },
          "metadata": {
            "tags": []
          },
          "execution_count": 25
        }
      ]
    },
    {
      "cell_type": "markdown",
      "metadata": {
        "id": "rUQw2NjE53Yi"
      },
      "source": [
        "Las filas del array NumPy siguen siendo interpretadas como filas del dataframe.\n",
        "\n",
        "Si especificamos las etiquetas de filas y columnas, el resultado es diferente:"
      ]
    },
    {
      "cell_type": "code",
      "metadata": {
        "id": "zo5nqkVy55D2",
        "colab": {
          "base_uri": "https://localhost:8080/",
          "height": 136
        },
        "outputId": "879a538c-9d24-4ef1-c639-9c232abf41cc"
      },
      "source": [
        "unidades = pd.DataFrame(unidades_datos,\n",
        "                        index = [2015, 2016, 2017],\n",
        "                        columns = [\"Ag\", \"Au\", \"Cu\", \"Pt\"])\n",
        "unidades"
      ],
      "execution_count": null,
      "outputs": [
        {
          "output_type": "execute_result",
          "data": {
            "text/html": [
              "<div>\n",
              "<style scoped>\n",
              "    .dataframe tbody tr th:only-of-type {\n",
              "        vertical-align: middle;\n",
              "    }\n",
              "\n",
              "    .dataframe tbody tr th {\n",
              "        vertical-align: top;\n",
              "    }\n",
              "\n",
              "    .dataframe thead th {\n",
              "        text-align: right;\n",
              "    }\n",
              "</style>\n",
              "<table border=\"1\" class=\"dataframe\">\n",
              "  <thead>\n",
              "    <tr style=\"text-align: right;\">\n",
              "      <th></th>\n",
              "      <th>Ag</th>\n",
              "      <th>Au</th>\n",
              "      <th>Cu</th>\n",
              "      <th>Pt</th>\n",
              "    </tr>\n",
              "  </thead>\n",
              "  <tbody>\n",
              "    <tr>\n",
              "      <th>2015</th>\n",
              "      <td>2</td>\n",
              "      <td>5</td>\n",
              "      <td>3</td>\n",
              "      <td>2</td>\n",
              "    </tr>\n",
              "    <tr>\n",
              "      <th>2016</th>\n",
              "      <td>4</td>\n",
              "      <td>6</td>\n",
              "      <td>7</td>\n",
              "      <td>2</td>\n",
              "    </tr>\n",
              "    <tr>\n",
              "      <th>2017</th>\n",
              "      <td>3</td>\n",
              "      <td>2</td>\n",
              "      <td>4</td>\n",
              "      <td>1</td>\n",
              "    </tr>\n",
              "  </tbody>\n",
              "</table>\n",
              "</div>"
            ],
            "text/plain": [
              "      Ag  Au  Cu  Pt\n",
              "2015   2   5   3   2\n",
              "2016   4   6   7   2\n",
              "2017   3   2   4   1"
            ]
          },
          "metadata": {
            "tags": []
          },
          "execution_count": 26
        }
      ]
    },
    {
      "cell_type": "markdown",
      "metadata": {
        "id": "mQlxIf4_6MhA"
      },
      "source": [
        "### Creación de un dataframe a partir de una lista de diccionarios\n",
        "\n",
        "También podemos partir de un conjunto de diccionarios, cada uno definiendo el contenido de lo que será una fila del dataframe:"
      ]
    },
    {
      "cell_type": "code",
      "metadata": {
        "id": "b_eUlr1z6U6x",
        "colab": {
          "base_uri": "https://localhost:8080/",
          "height": 136
        },
        "outputId": "81917068-1db5-4c7c-c27d-455020f528ee"
      },
      "source": [
        "unidades_2015 = {\"Ag\":2, \"Au\":5, \"Cu\":3, \"Pt\":2}\n",
        "unidades_2016 = {\"Ag\":4, \"Au\":6, \"Cu\":7, \"Pt\":2}\n",
        "unidades_2017 = {\"Ag\":3, \"Au\":2, \"Cu\":4, \"Pt\":1}\n",
        "unidades = pd.DataFrame([unidades_2015, unidades_2016, unidades_2017],\n",
        "                        index = [2015, 2016, 2017])\n",
        "unidades"
      ],
      "execution_count": null,
      "outputs": [
        {
          "output_type": "execute_result",
          "data": {
            "text/html": [
              "<div>\n",
              "<style scoped>\n",
              "    .dataframe tbody tr th:only-of-type {\n",
              "        vertical-align: middle;\n",
              "    }\n",
              "\n",
              "    .dataframe tbody tr th {\n",
              "        vertical-align: top;\n",
              "    }\n",
              "\n",
              "    .dataframe thead th {\n",
              "        text-align: right;\n",
              "    }\n",
              "</style>\n",
              "<table border=\"1\" class=\"dataframe\">\n",
              "  <thead>\n",
              "    <tr style=\"text-align: right;\">\n",
              "      <th></th>\n",
              "      <th>Ag</th>\n",
              "      <th>Au</th>\n",
              "      <th>Cu</th>\n",
              "      <th>Pt</th>\n",
              "    </tr>\n",
              "  </thead>\n",
              "  <tbody>\n",
              "    <tr>\n",
              "      <th>2015</th>\n",
              "      <td>2</td>\n",
              "      <td>5</td>\n",
              "      <td>3</td>\n",
              "      <td>2</td>\n",
              "    </tr>\n",
              "    <tr>\n",
              "      <th>2016</th>\n",
              "      <td>4</td>\n",
              "      <td>6</td>\n",
              "      <td>7</td>\n",
              "      <td>2</td>\n",
              "    </tr>\n",
              "    <tr>\n",
              "      <th>2017</th>\n",
              "      <td>3</td>\n",
              "      <td>2</td>\n",
              "      <td>4</td>\n",
              "      <td>1</td>\n",
              "    </tr>\n",
              "  </tbody>\n",
              "</table>\n",
              "</div>"
            ],
            "text/plain": [
              "      Ag  Au  Cu  Pt\n",
              "2015   2   5   3   2\n",
              "2016   4   6   7   2\n",
              "2017   3   2   4   1"
            ]
          },
          "metadata": {
            "tags": []
          },
          "execution_count": 27
        }
      ]
    },
    {
      "cell_type": "markdown",
      "metadata": {
        "id": "BVYw5MS-66tD"
      },
      "source": [
        "Los diccionarios deberán compartir el mismo conjunto de claves que se interpretarán como etiquetas de columnas. Si las etiquetas no coinciden, se crearán todas las columnas pero se asignarán *NaN* a los valores desconocidos:"
      ]
    },
    {
      "cell_type": "code",
      "metadata": {
        "id": "12s7owJf699Y",
        "colab": {
          "base_uri": "https://localhost:8080/",
          "height": 136
        },
        "outputId": "97e37801-cb52-4d8e-baa4-ed213ee6a1bd"
      },
      "source": [
        "unidades_2015 = {\"Ag\":2, \"Au\":5, \"Cu\":3, \"Pt\":2}\n",
        "unidades_2016 = {\"Ag\":4, \"Au\":6, \"Cu\":7, \"Pt\":2}\n",
        "unidades_2017 = {\"Ag\":3, \"Pb\":2, \"Cu\":4, \"Pt\":1}\n",
        "unidades = pd.DataFrame([unidades_2015, unidades_2016, unidades_2017],\n",
        "                        index = [2015, 2016, 2017])\n",
        "unidades"
      ],
      "execution_count": null,
      "outputs": [
        {
          "output_type": "execute_result",
          "data": {
            "text/html": [
              "<div>\n",
              "<style scoped>\n",
              "    .dataframe tbody tr th:only-of-type {\n",
              "        vertical-align: middle;\n",
              "    }\n",
              "\n",
              "    .dataframe tbody tr th {\n",
              "        vertical-align: top;\n",
              "    }\n",
              "\n",
              "    .dataframe thead th {\n",
              "        text-align: right;\n",
              "    }\n",
              "</style>\n",
              "<table border=\"1\" class=\"dataframe\">\n",
              "  <thead>\n",
              "    <tr style=\"text-align: right;\">\n",
              "      <th></th>\n",
              "      <th>Ag</th>\n",
              "      <th>Au</th>\n",
              "      <th>Cu</th>\n",
              "      <th>Pt</th>\n",
              "      <th>Pb</th>\n",
              "    </tr>\n",
              "  </thead>\n",
              "  <tbody>\n",
              "    <tr>\n",
              "      <th>2015</th>\n",
              "      <td>2</td>\n",
              "      <td>5.0</td>\n",
              "      <td>3</td>\n",
              "      <td>2</td>\n",
              "      <td>NaN</td>\n",
              "    </tr>\n",
              "    <tr>\n",
              "      <th>2016</th>\n",
              "      <td>4</td>\n",
              "      <td>6.0</td>\n",
              "      <td>7</td>\n",
              "      <td>2</td>\n",
              "      <td>NaN</td>\n",
              "    </tr>\n",
              "    <tr>\n",
              "      <th>2017</th>\n",
              "      <td>3</td>\n",
              "      <td>NaN</td>\n",
              "      <td>4</td>\n",
              "      <td>1</td>\n",
              "      <td>2.0</td>\n",
              "    </tr>\n",
              "  </tbody>\n",
              "</table>\n",
              "</div>"
            ],
            "text/plain": [
              "      Ag   Au  Cu  Pt   Pb\n",
              "2015   2  5.0   3   2  NaN\n",
              "2016   4  6.0   7   2  NaN\n",
              "2017   3  NaN   4   1  2.0"
            ]
          },
          "metadata": {
            "tags": []
          },
          "execution_count": 28
        }
      ]
    },
    {
      "cell_type": "markdown",
      "metadata": {
        "id": "8gP-5zvZ7NVE"
      },
      "source": [
        "En este ejemplo, el año 2017 tiene una clave, *Pb*, que no existe en los otros dos diccionarios. Y este mismo año carece de la clave Au que sí se encuentra en los otros dos. Vemos cómo los datos no coincidentes se han rellenado con *NaN*."
      ]
    },
    {
      "cell_type": "markdown",
      "metadata": {
        "id": "PKOfofAv7UaA"
      },
      "source": [
        "### Otros métodos\n",
        "\n",
        "Además de poder partir de otras estructura además de las vistas (de un diccionario de tuplas, por ejemplo), hay dos constructores adicionales:\n",
        "* `pandas.DataFrame.from_dict`, que crea un dataframe a partir de un diccionario de diccionarios o de secuencias tipo array, y\n",
        "*`pandas.DataFrame.from_records`, que parte de una lista de tuplas o de arrays NumPy con un tipo estructurado."
      ]
    },
    {
      "cell_type": "markdown",
      "source": [
        "<font color='PURPLE'>__EXPERIMENTO__:</font>\n",
        "\n",
        " Creación de un DataFrame utilizando el método `pandas.DataFrame.from_dict`\n"
      ],
      "metadata": {
        "id": "-SpxJN8g8lc1"
      }
    },
    {
      "cell_type": "code",
      "source": [
        "data = {'col_1': [3, 2, 1, 0], 'col_2': ['a', 'b', 'c', 'd']}\n",
        "pd.DataFrame.from_dict(data)"
      ],
      "metadata": {
        "colab": {
          "base_uri": "https://localhost:8080/",
          "height": 173
        },
        "id": "5o576faO8u2i",
        "outputId": "836c3e5d-0c03-4424-b87d-475773049561"
      },
      "execution_count": null,
      "outputs": [
        {
          "output_type": "execute_result",
          "data": {
            "text/plain": [
              "   col_1 col_2\n",
              "0      3     a\n",
              "1      2     b\n",
              "2      1     c\n",
              "3      0     d"
            ],
            "text/html": [
              "\n",
              "  <div id=\"df-51d13671-34e0-47a8-886c-bf65ed4455fc\">\n",
              "    <div class=\"colab-df-container\">\n",
              "      <div>\n",
              "<style scoped>\n",
              "    .dataframe tbody tr th:only-of-type {\n",
              "        vertical-align: middle;\n",
              "    }\n",
              "\n",
              "    .dataframe tbody tr th {\n",
              "        vertical-align: top;\n",
              "    }\n",
              "\n",
              "    .dataframe thead th {\n",
              "        text-align: right;\n",
              "    }\n",
              "</style>\n",
              "<table border=\"1\" class=\"dataframe\">\n",
              "  <thead>\n",
              "    <tr style=\"text-align: right;\">\n",
              "      <th></th>\n",
              "      <th>col_1</th>\n",
              "      <th>col_2</th>\n",
              "    </tr>\n",
              "  </thead>\n",
              "  <tbody>\n",
              "    <tr>\n",
              "      <th>0</th>\n",
              "      <td>3</td>\n",
              "      <td>a</td>\n",
              "    </tr>\n",
              "    <tr>\n",
              "      <th>1</th>\n",
              "      <td>2</td>\n",
              "      <td>b</td>\n",
              "    </tr>\n",
              "    <tr>\n",
              "      <th>2</th>\n",
              "      <td>1</td>\n",
              "      <td>c</td>\n",
              "    </tr>\n",
              "    <tr>\n",
              "      <th>3</th>\n",
              "      <td>0</td>\n",
              "      <td>d</td>\n",
              "    </tr>\n",
              "  </tbody>\n",
              "</table>\n",
              "</div>\n",
              "      <button class=\"colab-df-convert\" onclick=\"convertToInteractive('df-51d13671-34e0-47a8-886c-bf65ed4455fc')\"\n",
              "              title=\"Convert this dataframe to an interactive table.\"\n",
              "              style=\"display:none;\">\n",
              "        \n",
              "  <svg xmlns=\"http://www.w3.org/2000/svg\" height=\"24px\"viewBox=\"0 0 24 24\"\n",
              "       width=\"24px\">\n",
              "    <path d=\"M0 0h24v24H0V0z\" fill=\"none\"/>\n",
              "    <path d=\"M18.56 5.44l.94 2.06.94-2.06 2.06-.94-2.06-.94-.94-2.06-.94 2.06-2.06.94zm-11 1L8.5 8.5l.94-2.06 2.06-.94-2.06-.94L8.5 2.5l-.94 2.06-2.06.94zm10 10l.94 2.06.94-2.06 2.06-.94-2.06-.94-.94-2.06-.94 2.06-2.06.94z\"/><path d=\"M17.41 7.96l-1.37-1.37c-.4-.4-.92-.59-1.43-.59-.52 0-1.04.2-1.43.59L10.3 9.45l-7.72 7.72c-.78.78-.78 2.05 0 2.83L4 21.41c.39.39.9.59 1.41.59.51 0 1.02-.2 1.41-.59l7.78-7.78 2.81-2.81c.8-.78.8-2.07 0-2.86zM5.41 20L4 18.59l7.72-7.72 1.47 1.35L5.41 20z\"/>\n",
              "  </svg>\n",
              "      </button>\n",
              "      \n",
              "  <style>\n",
              "    .colab-df-container {\n",
              "      display:flex;\n",
              "      flex-wrap:wrap;\n",
              "      gap: 12px;\n",
              "    }\n",
              "\n",
              "    .colab-df-convert {\n",
              "      background-color: #E8F0FE;\n",
              "      border: none;\n",
              "      border-radius: 50%;\n",
              "      cursor: pointer;\n",
              "      display: none;\n",
              "      fill: #1967D2;\n",
              "      height: 32px;\n",
              "      padding: 0 0 0 0;\n",
              "      width: 32px;\n",
              "    }\n",
              "\n",
              "    .colab-df-convert:hover {\n",
              "      background-color: #E2EBFA;\n",
              "      box-shadow: 0px 1px 2px rgba(60, 64, 67, 0.3), 0px 1px 3px 1px rgba(60, 64, 67, 0.15);\n",
              "      fill: #174EA6;\n",
              "    }\n",
              "\n",
              "    [theme=dark] .colab-df-convert {\n",
              "      background-color: #3B4455;\n",
              "      fill: #D2E3FC;\n",
              "    }\n",
              "\n",
              "    [theme=dark] .colab-df-convert:hover {\n",
              "      background-color: #434B5C;\n",
              "      box-shadow: 0px 1px 3px 1px rgba(0, 0, 0, 0.15);\n",
              "      filter: drop-shadow(0px 1px 2px rgba(0, 0, 0, 0.3));\n",
              "      fill: #FFFFFF;\n",
              "    }\n",
              "  </style>\n",
              "\n",
              "      <script>\n",
              "        const buttonEl =\n",
              "          document.querySelector('#df-51d13671-34e0-47a8-886c-bf65ed4455fc button.colab-df-convert');\n",
              "        buttonEl.style.display =\n",
              "          google.colab.kernel.accessAllowed ? 'block' : 'none';\n",
              "\n",
              "        async function convertToInteractive(key) {\n",
              "          const element = document.querySelector('#df-51d13671-34e0-47a8-886c-bf65ed4455fc');\n",
              "          const dataTable =\n",
              "            await google.colab.kernel.invokeFunction('convertToInteractive',\n",
              "                                                     [key], {});\n",
              "          if (!dataTable) return;\n",
              "\n",
              "          const docLinkHtml = 'Like what you see? Visit the ' +\n",
              "            '<a target=\"_blank\" href=https://colab.research.google.com/notebooks/data_table.ipynb>data table notebook</a>'\n",
              "            + ' to learn more about interactive tables.';\n",
              "          element.innerHTML = '';\n",
              "          dataTable['output_type'] = 'display_data';\n",
              "          await google.colab.output.renderOutput(dataTable, element);\n",
              "          const docLink = document.createElement('div');\n",
              "          docLink.innerHTML = docLinkHtml;\n",
              "          element.appendChild(docLink);\n",
              "        }\n",
              "      </script>\n",
              "    </div>\n",
              "  </div>\n",
              "  "
            ]
          },
          "metadata": {},
          "execution_count": 16
        }
      ]
    },
    {
      "cell_type": "markdown",
      "source": [
        "Ahora intentaremos crea un DataFrame a partir de un diccionario de diccionarios."
      ],
      "metadata": {
        "id": "VDTbd_GS9Q8R"
      }
    },
    {
      "cell_type": "code",
      "source": [
        "d = {'Jill': {'Django Unchained': 6.5, 'Gone Girl': 9.0, 'Kill the Messenger': 8.0, 'Avenger: Age of Ultron': 7.0},\n",
        "     'Toby': {'Django Unchained': 9.0, 'Zoolander': 2.0, 'Avenger: Age of Ultron': 8.5}}\n",
        "d\n"
      ],
      "metadata": {
        "colab": {
          "base_uri": "https://localhost:8080/"
        },
        "id": "oULp0itG9Rbf",
        "outputId": "63d9c8f2-49ac-44ab-ca24-0629047a0c1e"
      },
      "execution_count": null,
      "outputs": [
        {
          "output_type": "execute_result",
          "data": {
            "text/plain": [
              "{'Jill': {'Django Unchained': 6.5,\n",
              "  'Gone Girl': 9.0,\n",
              "  'Kill the Messenger': 8.0,\n",
              "  'Avenger: Age of Ultron': 7.0},\n",
              " 'Toby': {'Django Unchained': 9.0,\n",
              "  'Zoolander': 2.0,\n",
              "  'Avenger: Age of Ultron': 8.5}}"
            ]
          },
          "metadata": {},
          "execution_count": 17
        }
      ]
    },
    {
      "cell_type": "code",
      "source": [
        "pd.DataFrame.from_dict(d)"
      ],
      "metadata": {
        "colab": {
          "base_uri": "https://localhost:8080/",
          "height": 204
        },
        "id": "0LvRPJV99YuH",
        "outputId": "8841a4ff-3264-4255-c2fe-6e8e3e336eca"
      },
      "execution_count": null,
      "outputs": [
        {
          "output_type": "execute_result",
          "data": {
            "text/plain": [
              "                        Jill  Toby\n",
              "Django Unchained         6.5   9.0\n",
              "Gone Girl                9.0   NaN\n",
              "Kill the Messenger       8.0   NaN\n",
              "Avenger: Age of Ultron   7.0   8.5\n",
              "Zoolander                NaN   2.0"
            ],
            "text/html": [
              "\n",
              "  <div id=\"df-64e25819-199a-4c82-af4b-673823464bbf\">\n",
              "    <div class=\"colab-df-container\">\n",
              "      <div>\n",
              "<style scoped>\n",
              "    .dataframe tbody tr th:only-of-type {\n",
              "        vertical-align: middle;\n",
              "    }\n",
              "\n",
              "    .dataframe tbody tr th {\n",
              "        vertical-align: top;\n",
              "    }\n",
              "\n",
              "    .dataframe thead th {\n",
              "        text-align: right;\n",
              "    }\n",
              "</style>\n",
              "<table border=\"1\" class=\"dataframe\">\n",
              "  <thead>\n",
              "    <tr style=\"text-align: right;\">\n",
              "      <th></th>\n",
              "      <th>Jill</th>\n",
              "      <th>Toby</th>\n",
              "    </tr>\n",
              "  </thead>\n",
              "  <tbody>\n",
              "    <tr>\n",
              "      <th>Django Unchained</th>\n",
              "      <td>6.5</td>\n",
              "      <td>9.0</td>\n",
              "    </tr>\n",
              "    <tr>\n",
              "      <th>Gone Girl</th>\n",
              "      <td>9.0</td>\n",
              "      <td>NaN</td>\n",
              "    </tr>\n",
              "    <tr>\n",
              "      <th>Kill the Messenger</th>\n",
              "      <td>8.0</td>\n",
              "      <td>NaN</td>\n",
              "    </tr>\n",
              "    <tr>\n",
              "      <th>Avenger: Age of Ultron</th>\n",
              "      <td>7.0</td>\n",
              "      <td>8.5</td>\n",
              "    </tr>\n",
              "    <tr>\n",
              "      <th>Zoolander</th>\n",
              "      <td>NaN</td>\n",
              "      <td>2.0</td>\n",
              "    </tr>\n",
              "  </tbody>\n",
              "</table>\n",
              "</div>\n",
              "      <button class=\"colab-df-convert\" onclick=\"convertToInteractive('df-64e25819-199a-4c82-af4b-673823464bbf')\"\n",
              "              title=\"Convert this dataframe to an interactive table.\"\n",
              "              style=\"display:none;\">\n",
              "        \n",
              "  <svg xmlns=\"http://www.w3.org/2000/svg\" height=\"24px\"viewBox=\"0 0 24 24\"\n",
              "       width=\"24px\">\n",
              "    <path d=\"M0 0h24v24H0V0z\" fill=\"none\"/>\n",
              "    <path d=\"M18.56 5.44l.94 2.06.94-2.06 2.06-.94-2.06-.94-.94-2.06-.94 2.06-2.06.94zm-11 1L8.5 8.5l.94-2.06 2.06-.94-2.06-.94L8.5 2.5l-.94 2.06-2.06.94zm10 10l.94 2.06.94-2.06 2.06-.94-2.06-.94-.94-2.06-.94 2.06-2.06.94z\"/><path d=\"M17.41 7.96l-1.37-1.37c-.4-.4-.92-.59-1.43-.59-.52 0-1.04.2-1.43.59L10.3 9.45l-7.72 7.72c-.78.78-.78 2.05 0 2.83L4 21.41c.39.39.9.59 1.41.59.51 0 1.02-.2 1.41-.59l7.78-7.78 2.81-2.81c.8-.78.8-2.07 0-2.86zM5.41 20L4 18.59l7.72-7.72 1.47 1.35L5.41 20z\"/>\n",
              "  </svg>\n",
              "      </button>\n",
              "      \n",
              "  <style>\n",
              "    .colab-df-container {\n",
              "      display:flex;\n",
              "      flex-wrap:wrap;\n",
              "      gap: 12px;\n",
              "    }\n",
              "\n",
              "    .colab-df-convert {\n",
              "      background-color: #E8F0FE;\n",
              "      border: none;\n",
              "      border-radius: 50%;\n",
              "      cursor: pointer;\n",
              "      display: none;\n",
              "      fill: #1967D2;\n",
              "      height: 32px;\n",
              "      padding: 0 0 0 0;\n",
              "      width: 32px;\n",
              "    }\n",
              "\n",
              "    .colab-df-convert:hover {\n",
              "      background-color: #E2EBFA;\n",
              "      box-shadow: 0px 1px 2px rgba(60, 64, 67, 0.3), 0px 1px 3px 1px rgba(60, 64, 67, 0.15);\n",
              "      fill: #174EA6;\n",
              "    }\n",
              "\n",
              "    [theme=dark] .colab-df-convert {\n",
              "      background-color: #3B4455;\n",
              "      fill: #D2E3FC;\n",
              "    }\n",
              "\n",
              "    [theme=dark] .colab-df-convert:hover {\n",
              "      background-color: #434B5C;\n",
              "      box-shadow: 0px 1px 3px 1px rgba(0, 0, 0, 0.15);\n",
              "      filter: drop-shadow(0px 1px 2px rgba(0, 0, 0, 0.3));\n",
              "      fill: #FFFFFF;\n",
              "    }\n",
              "  </style>\n",
              "\n",
              "      <script>\n",
              "        const buttonEl =\n",
              "          document.querySelector('#df-64e25819-199a-4c82-af4b-673823464bbf button.colab-df-convert');\n",
              "        buttonEl.style.display =\n",
              "          google.colab.kernel.accessAllowed ? 'block' : 'none';\n",
              "\n",
              "        async function convertToInteractive(key) {\n",
              "          const element = document.querySelector('#df-64e25819-199a-4c82-af4b-673823464bbf');\n",
              "          const dataTable =\n",
              "            await google.colab.kernel.invokeFunction('convertToInteractive',\n",
              "                                                     [key], {});\n",
              "          if (!dataTable) return;\n",
              "\n",
              "          const docLinkHtml = 'Like what you see? Visit the ' +\n",
              "            '<a target=\"_blank\" href=https://colab.research.google.com/notebooks/data_table.ipynb>data table notebook</a>'\n",
              "            + ' to learn more about interactive tables.';\n",
              "          element.innerHTML = '';\n",
              "          dataTable['output_type'] = 'display_data';\n",
              "          await google.colab.output.renderOutput(dataTable, element);\n",
              "          const docLink = document.createElement('div');\n",
              "          docLink.innerHTML = docLinkHtml;\n",
              "          element.appendChild(docLink);\n",
              "        }\n",
              "      </script>\n",
              "    </div>\n",
              "  </div>\n",
              "  "
            ]
          },
          "metadata": {},
          "execution_count": 18
        }
      ]
    },
    {
      "cell_type": "markdown",
      "source": [
        "Podemos cambiar la orientación del índice"
      ],
      "metadata": {
        "id": "-uY-fRw99kAU"
      }
    },
    {
      "cell_type": "code",
      "source": [
        "pd.DataFrame.from_dict(d, orient='index')"
      ],
      "metadata": {
        "colab": {
          "base_uri": "https://localhost:8080/",
          "height": 111
        },
        "id": "sBCncHp99nbh",
        "outputId": "d3ea4ec5-93c3-47be-e4f7-5436b25fba4e"
      },
      "execution_count": null,
      "outputs": [
        {
          "output_type": "execute_result",
          "data": {
            "text/plain": [
              "      Django Unchained  Gone Girl  Kill the Messenger  Avenger: Age of Ultron  \\\n",
              "Jill               6.5        9.0                 8.0                     7.0   \n",
              "Toby               9.0        NaN                 NaN                     8.5   \n",
              "\n",
              "      Zoolander  \n",
              "Jill        NaN  \n",
              "Toby        2.0  "
            ],
            "text/html": [
              "\n",
              "  <div id=\"df-216dc3d3-81a6-4883-ab47-a9b45ef79edc\">\n",
              "    <div class=\"colab-df-container\">\n",
              "      <div>\n",
              "<style scoped>\n",
              "    .dataframe tbody tr th:only-of-type {\n",
              "        vertical-align: middle;\n",
              "    }\n",
              "\n",
              "    .dataframe tbody tr th {\n",
              "        vertical-align: top;\n",
              "    }\n",
              "\n",
              "    .dataframe thead th {\n",
              "        text-align: right;\n",
              "    }\n",
              "</style>\n",
              "<table border=\"1\" class=\"dataframe\">\n",
              "  <thead>\n",
              "    <tr style=\"text-align: right;\">\n",
              "      <th></th>\n",
              "      <th>Django Unchained</th>\n",
              "      <th>Gone Girl</th>\n",
              "      <th>Kill the Messenger</th>\n",
              "      <th>Avenger: Age of Ultron</th>\n",
              "      <th>Zoolander</th>\n",
              "    </tr>\n",
              "  </thead>\n",
              "  <tbody>\n",
              "    <tr>\n",
              "      <th>Jill</th>\n",
              "      <td>6.5</td>\n",
              "      <td>9.0</td>\n",
              "      <td>8.0</td>\n",
              "      <td>7.0</td>\n",
              "      <td>NaN</td>\n",
              "    </tr>\n",
              "    <tr>\n",
              "      <th>Toby</th>\n",
              "      <td>9.0</td>\n",
              "      <td>NaN</td>\n",
              "      <td>NaN</td>\n",
              "      <td>8.5</td>\n",
              "      <td>2.0</td>\n",
              "    </tr>\n",
              "  </tbody>\n",
              "</table>\n",
              "</div>\n",
              "      <button class=\"colab-df-convert\" onclick=\"convertToInteractive('df-216dc3d3-81a6-4883-ab47-a9b45ef79edc')\"\n",
              "              title=\"Convert this dataframe to an interactive table.\"\n",
              "              style=\"display:none;\">\n",
              "        \n",
              "  <svg xmlns=\"http://www.w3.org/2000/svg\" height=\"24px\"viewBox=\"0 0 24 24\"\n",
              "       width=\"24px\">\n",
              "    <path d=\"M0 0h24v24H0V0z\" fill=\"none\"/>\n",
              "    <path d=\"M18.56 5.44l.94 2.06.94-2.06 2.06-.94-2.06-.94-.94-2.06-.94 2.06-2.06.94zm-11 1L8.5 8.5l.94-2.06 2.06-.94-2.06-.94L8.5 2.5l-.94 2.06-2.06.94zm10 10l.94 2.06.94-2.06 2.06-.94-2.06-.94-.94-2.06-.94 2.06-2.06.94z\"/><path d=\"M17.41 7.96l-1.37-1.37c-.4-.4-.92-.59-1.43-.59-.52 0-1.04.2-1.43.59L10.3 9.45l-7.72 7.72c-.78.78-.78 2.05 0 2.83L4 21.41c.39.39.9.59 1.41.59.51 0 1.02-.2 1.41-.59l7.78-7.78 2.81-2.81c.8-.78.8-2.07 0-2.86zM5.41 20L4 18.59l7.72-7.72 1.47 1.35L5.41 20z\"/>\n",
              "  </svg>\n",
              "      </button>\n",
              "      \n",
              "  <style>\n",
              "    .colab-df-container {\n",
              "      display:flex;\n",
              "      flex-wrap:wrap;\n",
              "      gap: 12px;\n",
              "    }\n",
              "\n",
              "    .colab-df-convert {\n",
              "      background-color: #E8F0FE;\n",
              "      border: none;\n",
              "      border-radius: 50%;\n",
              "      cursor: pointer;\n",
              "      display: none;\n",
              "      fill: #1967D2;\n",
              "      height: 32px;\n",
              "      padding: 0 0 0 0;\n",
              "      width: 32px;\n",
              "    }\n",
              "\n",
              "    .colab-df-convert:hover {\n",
              "      background-color: #E2EBFA;\n",
              "      box-shadow: 0px 1px 2px rgba(60, 64, 67, 0.3), 0px 1px 3px 1px rgba(60, 64, 67, 0.15);\n",
              "      fill: #174EA6;\n",
              "    }\n",
              "\n",
              "    [theme=dark] .colab-df-convert {\n",
              "      background-color: #3B4455;\n",
              "      fill: #D2E3FC;\n",
              "    }\n",
              "\n",
              "    [theme=dark] .colab-df-convert:hover {\n",
              "      background-color: #434B5C;\n",
              "      box-shadow: 0px 1px 3px 1px rgba(0, 0, 0, 0.15);\n",
              "      filter: drop-shadow(0px 1px 2px rgba(0, 0, 0, 0.3));\n",
              "      fill: #FFFFFF;\n",
              "    }\n",
              "  </style>\n",
              "\n",
              "      <script>\n",
              "        const buttonEl =\n",
              "          document.querySelector('#df-216dc3d3-81a6-4883-ab47-a9b45ef79edc button.colab-df-convert');\n",
              "        buttonEl.style.display =\n",
              "          google.colab.kernel.accessAllowed ? 'block' : 'none';\n",
              "\n",
              "        async function convertToInteractive(key) {\n",
              "          const element = document.querySelector('#df-216dc3d3-81a6-4883-ab47-a9b45ef79edc');\n",
              "          const dataTable =\n",
              "            await google.colab.kernel.invokeFunction('convertToInteractive',\n",
              "                                                     [key], {});\n",
              "          if (!dataTable) return;\n",
              "\n",
              "          const docLinkHtml = 'Like what you see? Visit the ' +\n",
              "            '<a target=\"_blank\" href=https://colab.research.google.com/notebooks/data_table.ipynb>data table notebook</a>'\n",
              "            + ' to learn more about interactive tables.';\n",
              "          element.innerHTML = '';\n",
              "          dataTable['output_type'] = 'display_data';\n",
              "          await google.colab.output.renderOutput(dataTable, element);\n",
              "          const docLink = document.createElement('div');\n",
              "          docLink.innerHTML = docLinkHtml;\n",
              "          element.appendChild(docLink);\n",
              "        }\n",
              "      </script>\n",
              "    </div>\n",
              "  </div>\n",
              "  "
            ]
          },
          "metadata": {},
          "execution_count": 19
        }
      ]
    },
    {
      "cell_type": "markdown",
      "source": [
        "<font color='purple'>Fin experimento</font>"
      ],
      "metadata": {
        "id": "f4msCeMX9ozW"
      }
    },
    {
      "cell_type": "markdown",
      "source": [
        "<font color='red'>__LINKS DE INTERÉS__: Incorporamos links de profundización</font>\n",
        "\n",
        "Los destacamos en rojo. A continuación un ejemplo"
      ],
      "metadata": {
        "id": "9RfV3UoF-EAt"
      }
    },
    {
      "cell_type": "markdown",
      "source": [
        "<font color='red'>__LINK DE INTERÉS__: Uso de `pandas.DataFrame.from_records`</font>\n",
        "\n",
        "El uso de `pandas.DataFrame.from_records` lo podemos ver en el siguiente link [aquí](https://pandas.pydata.org/docs/reference/api/pandas.DataFrame.from_records.html)."
      ],
      "metadata": {
        "id": "oDirk3dG-UDQ"
      }
    },
    {
      "cell_type": "markdown",
      "metadata": {
        "id": "WliKEjQSkOpI"
      },
      "source": [
        "## <font color='green'>Actividad 2</font>\n",
        "\n",
        "Escribir programa que genere y muestre por pantalla un DataFrame con los datos de la tabla siguiente:\n",
        "\n",
        "| Mes     | Ventas | Gastos |\n",
        "| ------- | -----: | -----: |\n",
        "| Enero   |  30500 |  22000 |\n",
        "| Febrero |  35600 |  23400 |\n",
        "| Marzo   |  28300 |  18100 |\n",
        "| Abril   |  33900 |  20700 |\n",
        "| Mayo    |  31450 |  25620 |\n",
        "| Junio   |  33040 |  25500 |"
      ]
    },
    {
      "cell_type": "code",
      "metadata": {
        "id": "SNJRn876nkEN",
        "colab": {
          "base_uri": "https://localhost:8080/",
          "height": 266
        },
        "outputId": "c207f70b-99ab-4654-ea7c-7819c2d44839"
      },
      "source": [
        "#Solución\n",
        "\n",
        "elementos = {\"Ventas\":[30500, 35600, 28300, 33900,31450,33040],\n",
        "             \"Gastos\":[22000,23400,18100,20700,25620,25500]}\n",
        "ventas_gastos=pd.DataFrame(elementos, index=[\"Enero\",\"Febrero\",\"Marzo\",\"Abril\",\"Mayo\",\"Junio\"])\n",
        "ventas_gastos.index.name = \"Mes\"\n",
        "ventas_gastos"
      ],
      "execution_count": null,
      "outputs": [
        {
          "output_type": "execute_result",
          "data": {
            "text/html": [
              "<div>\n",
              "<style scoped>\n",
              "    .dataframe tbody tr th:only-of-type {\n",
              "        vertical-align: middle;\n",
              "    }\n",
              "\n",
              "    .dataframe tbody tr th {\n",
              "        vertical-align: top;\n",
              "    }\n",
              "\n",
              "    .dataframe thead th {\n",
              "        text-align: right;\n",
              "    }\n",
              "</style>\n",
              "<table border=\"1\" class=\"dataframe\">\n",
              "  <thead>\n",
              "    <tr style=\"text-align: right;\">\n",
              "      <th></th>\n",
              "      <th>Ventas</th>\n",
              "      <th>Gastos</th>\n",
              "    </tr>\n",
              "    <tr>\n",
              "      <th>Mes</th>\n",
              "      <th></th>\n",
              "      <th></th>\n",
              "    </tr>\n",
              "  </thead>\n",
              "  <tbody>\n",
              "    <tr>\n",
              "      <th>Enero</th>\n",
              "      <td>30500</td>\n",
              "      <td>22000</td>\n",
              "    </tr>\n",
              "    <tr>\n",
              "      <th>Febrero</th>\n",
              "      <td>35600</td>\n",
              "      <td>23400</td>\n",
              "    </tr>\n",
              "    <tr>\n",
              "      <th>Marzo</th>\n",
              "      <td>28300</td>\n",
              "      <td>18100</td>\n",
              "    </tr>\n",
              "    <tr>\n",
              "      <th>Abril</th>\n",
              "      <td>33900</td>\n",
              "      <td>20700</td>\n",
              "    </tr>\n",
              "    <tr>\n",
              "      <th>Mayo</th>\n",
              "      <td>31450</td>\n",
              "      <td>25620</td>\n",
              "    </tr>\n",
              "    <tr>\n",
              "      <th>Junio</th>\n",
              "      <td>33040</td>\n",
              "      <td>25500</td>\n",
              "    </tr>\n",
              "  </tbody>\n",
              "</table>\n",
              "</div>"
            ],
            "text/plain": [
              "         Ventas  Gastos\n",
              "Mes                    \n",
              "Enero     30500   22000\n",
              "Febrero   35600   23400\n",
              "Marzo     28300   18100\n",
              "Abril     33900   20700\n",
              "Mayo      31450   25620\n",
              "Junio     33040   25500"
            ]
          },
          "metadata": {},
          "execution_count": 4
        }
      ]
    },
    {
      "cell_type": "markdown",
      "metadata": {
        "id": "Cm_zShaCnzn5"
      },
      "source": [
        "<font color='green'>Fin Actividad 2</font>"
      ]
    },
    {
      "cell_type": "markdown",
      "source": [
        "## <font color='red'>__REFLEXIÓN GRUPAL__:<br>\n",
        "Al final de la bitácora, en su último notebook, debemos incluir una reflexión grupal acerca de las herramientas y contenidos desde una perspectiva de uso profesional de las mismas.</font>\n",
        "## <font color='red'>\n",
        "### __Algunos aspectos a evaluar pueden ser:__</font>\n",
        "## <font color='red'>\n",
        "* Funcionalidad y capacidades: Evaluar la funcionalidad y las capacidades de la herramienta en relación con las necesidades específicas del contexto profesional. ¿La herramienta proporciona todas las funcionalidades requeridas? ¿Es fácil de usar y entender? ¿Permite realizar las tareas de análisis y visualización de datos de manera eficiente y efectiva?\n",
        "* Rendimiento y escalabilidad: Analizar el rendimiento de la herramienta en términos de velocidad y eficiencia al trabajar con conjuntos de datos grandes o complejos. ¿La herramienta puede manejar grandes volúmenes de datos sin problemas? ¿Es escalable y se adapta bien a diferentes tamaños de datos?\n",
        "* Documentación y comunidad de usuarios: Revisar la documentación y la disponibilidad de recursos de soporte, como tutoriales, ejemplos de código y documentación oficial. Además, investigar la comunidad de usuarios en torno a la herramienta. ¿La documentación es clara y completa? ¿Existen recursos y foros de discusión activos donde se pueda obtener ayuda y compartir conocimientos?\n",
        "* Mantenimiento y actualizaciones: Considerar la frecuencia y la calidad de las actualizaciones de la herramienta. ¿La herramienta está activamente mantenida y actualizada? ¿Se corrigen los errores de manera oportuna? ¿Se agregan nuevas características y mejoras regularmente?\n",
        "* Compatibilidad y integración: Evaluar la compatibilidad de la herramienta con otros componentes del entorno de trabajo, como sistemas operativos, bases de datos, lenguajes de programación u otras bibliotecas y herramientas utilizadas en el contexto profesional. ¿La herramienta se integra bien con otros sistemas y tecnologías existentes?\n",
        "* Curva de aprendizaje y facilidad de uso: Considerar la curva de aprendizaje de la herramienta y evaluar su facilidad de uso para los miembros del equipo o profesionales que la utilizarán. ¿Es intuitiva y fácil de aprender para aquellos con diferentes niveles de experiencia en programación y análisis de datos?\n",
        "* Flexibilidad y personalización: Evaluar la flexibilidad y la capacidad de personalización de la herramienta. ¿Permite adaptarse a diferentes casos de uso y requisitos específicos del contexto profesional? ¿Ofrece opciones de configuración y personalización para ajustarse a las necesidades individuales o del equipo?</font>\n",
        "\n",
        "<font color='red'>__IMPORTANTE__: Debemos incorporar al inicio y al final de la reflexión grupal, la palabra \"Reflexión Grupal\" con títulos en color púrpura. A continuación un ejemplo:</font>\n"
      ],
      "metadata": {
        "id": "yq52SW9k-5Xh"
      }
    },
    {
      "cell_type": "markdown",
      "source": [
        "## <font color='purple'>__REFLEXIÓN GRUPAL__:<br>\n",
        "La analítica de datos ha avanzado considerablemente en los últimos años y ahora existen diversas herramientas que nos permiten realizar tareas o procesos que antes eran complicados de realizar. Gracias a su versatilidad, el lenguaje de programación Python posee una serie de librerías que permiten realizar proyectos de analítica de datos de una forma muy sencilla y una de las librerías más populares es Pandas. En este curso tuvimos la oportunidad de enfocamos en:\n",
        "\n",
        "* Conocer los conceptos, métodos y funciones de la librería Pandas.\n",
        "* Analizar datos con la librería de Pandas de forma rápida y sencilla.\n",
        "* Usar la librería de Pandas para importar, construir y manipular Series y DataFrames.\n",
        "* Comprobar que la librería Pandas en muy similar al uso de Excel, pero nos permite desarrollar actividades más complejas y con un mayor volúmen de datos.\n",
        "\n",
        "__Funcionalidad y capacidades:__ Pandas es una biblioteca de análisis y manipulación de datos extremadamente poderosa en Python. Su funcionalidad incluye la capacidad de cargar, limpiar, transformar y analizar datos de manera eficiente. También ofrece numerosas funciones para realizar operaciones estadísticas y de agregación en conjuntos de datos.\n",
        "\n",
        "__Rendimiento y escalabilidad:__ Pandas está diseñado para manejar grandes volúmenes de datos de manera eficiente. Sin embargo, al trabajar con conjuntos de datos muy grandes, es posible que se requieran técnicas adicionales, como el uso de muestras o la optimización de código, para mejorar el rendimiento. Escala de forma eficiente con otras librerías tales como Dask.\n",
        "\n",
        "__Documentación y comunidad de usuarios:__ Pandas cuenta con una excelente documentación oficial, que incluye una guía de usuario completa, tutoriales y ejemplos de código. Además, la comunidad de usuarios de pandas es activa y colaborativa, lo que significa que hay una amplia gama de recursos y fuentes de ayuda disponibles en línea.\n",
        "\n",
        "__Mantenimiento y actualizaciones:__ Pandas es una biblioteca madura y bien mantenida, con una comunidad de desarrollo activa. El equipo de Pandas lanza regularmente nuevas versiones que corrigen errores, agregan nuevas características y mejoran el rendimiento.\n",
        "\n",
        "__Compatibilidad y integración:__ Pandas se integra bien con otras bibliotecas y herramientas de análisis de datos en el ecosistema de Python, como NumPy, matplotlib, Dask y scikit-learn. También es compatible con una variedad de formatos de datos, lo que facilita la importación y exportación de datos desde y hacia otras fuentes.\n",
        "\n",
        "__Curva de aprendizaje y facilidad de uso:__ Pandas tiene una curva de aprendizaje moderada, especialmente si tienes experiencia previa con Python y estructuras de datos tabulares. La sintaxis y las operaciones de pandas pueden requerir cierta familiarización, pero una vez que te acostumbras, se vuelve una herramienta potente y flexible.\n",
        "\n",
        "__Flexibilidad y personalización:__ Pandas ofrece una amplia gama de funcionalidades y opciones de configuración para adaptarse a diferentes requisitos y escenarios de análisis de datos. Además, Pandas es altamente extensible y permite el desarrollo de funciones personalizadas para satisfacer necesidades específicas (e.g.; métodos `apply()`y `map()`).\n",
        "\n",
        "__Trabajo futuro__: Como equipo creemos que debemos seguir profundizando en el conocimiento de Pandas en los siguientes aspectos:\n",
        "* Escalado a grandes volúmenes de datos con Dask\n",
        "* Entender las dinámicas de la librería de forma tal de optimizar el rendimiento de ciertas tareas.\n",
        "* Profundizar en el uso de tablas dinámicas y el uso de `loc` e `iloc`.\n",
        "* Explorar más casos de usos avanzados.\n",
        "* Incorporarnos a una comunidad de usuarios.\n",
        "\n",
        "## <font color='purple'>Fin reflexión grupal</font>"
      ],
      "metadata": {
        "id": "EFBI76Dd7CC5"
      }
    },
    {
      "cell_type": "code",
      "source": [],
      "metadata": {
        "id": "v6qW-mSS7A2s"
      },
      "execution_count": null,
      "outputs": []
    }
  ]
}